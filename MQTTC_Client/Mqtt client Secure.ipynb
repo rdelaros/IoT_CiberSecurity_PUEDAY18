{
 "cells": [
  {
   "cell_type": "markdown",
   "metadata": {},
   "source": [
    "### MQTT Client"
   ]
  },
  {
   "cell_type": "code",
   "execution_count": null,
   "metadata": {},
   "outputs": [
    {
     "name": "stdout",
     "output_type": "stream",
     "text": [
      "Topic: /lego/in/door\n",
      "Msg: 1\n",
      "[Errno 54] Connection reset by peer\n"
     ]
    }
   ],
   "source": [
    "import paho.mqtt.client as mqtt\n",
    "from time import sleep\n",
    "\n",
    "def on_message(client, userdata, msg):\n",
    "    print(\"Topic: {} - Message: {}\".format(msg.topic, msg.payload.decode('utf-8')))\n",
    "\n",
    "mqtt_host = 'iot.pue.es'\n",
    "mqtt_port = 8883\n",
    "client = mqtt.Client()\n",
    "#client.tls_set(\"ca.pem\")\n",
    "client.tls_set(\"ca.pem\",\"test.pem\", \"test.key\")\n",
    "\n",
    "client.connect(mqtt_host, mqtt_port)\n",
    "client.subscribe(\"/lego/out/temp\")\n",
    "client.on_message = on_message\n",
    "client.loop_start()\n",
    "try:\n",
    "    while True:    \n",
    "        topic=input(\"Topic: \")\n",
    "        msg=input(\"Msg: \")\n",
    "        client.publish(topic,msg)\n",
    "except KeyboardInterrupt:\n",
    "    pass\n",
    "finally:\n",
    "    client.loop_stop()\n",
    "    client.disconnect()"
   ]
  },
  {
   "cell_type": "code",
   "execution_count": null,
   "metadata": {
    "collapsed": true
   },
   "outputs": [],
   "source": []
  },
  {
   "cell_type": "code",
   "execution_count": null,
   "metadata": {
    "collapsed": true
   },
   "outputs": [],
   "source": []
  }
 ],
 "metadata": {
  "kernelspec": {
   "display_name": "Python 3",
   "language": "python",
   "name": "python3"
  },
  "language_info": {
   "codemirror_mode": {
    "name": "ipython",
    "version": 3
   },
   "file_extension": ".py",
   "mimetype": "text/x-python",
   "name": "python",
   "nbconvert_exporter": "python",
   "pygments_lexer": "ipython3",
   "version": "3.6.3"
  }
 },
 "nbformat": 4,
 "nbformat_minor": 2
}
